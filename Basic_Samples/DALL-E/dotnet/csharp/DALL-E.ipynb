{
 "cells": [
  {
   "cell_type": "markdown",
   "metadata": {},
   "source": [
    "# Azure DALL·E image generation example\n",
    "This notebook shows how to generate images with the Azure OpenAI service.\n"
   ]
  },
  {
   "cell_type": "markdown",
   "metadata": {},
   "source": [
    "## Installation\n",
    "Install the Azure Open AI SDK using the below command."
   ]
  },
  {
   "cell_type": "code",
   "execution_count": 1,
   "metadata": {
    "dotnet_interactive": {
     "language": "csharp"
    },
    "polyglot_notebook": {
     "kernelName": "csharp"
    }
   },
   "outputs": [],
   "source": [
    "#r \"nuget: Azure.AI.OpenAI, 1.0.0-beta.9\""
   ]
  },
  {
   "cell_type": "code",
   "execution_count": 2,
   "metadata": {
    "dotnet_interactive": {
     "language": "csharp"
    },
    "polyglot_notebook": {
     "kernelName": "csharp"
    }
   },
   "outputs": [
    {
     "ename": "SyntaxError",
     "evalue": "invalid syntax (869289513.py, line 3)",
     "output_type": "error",
     "traceback": [
      "\u001b[0;36m  Cell \u001b[0;32mIn[2], line 3\u001b[0;36m\u001b[0m\n\u001b[0;31m    using Microsoft.DotNet.Interactive;\u001b[0m\n\u001b[0m          ^\u001b[0m\n\u001b[0;31mSyntaxError\u001b[0m\u001b[0;31m:\u001b[0m invalid syntax\n"
     ]
    }
   ],
   "source": [
    "#r \"nuget:Microsoft.DotNet.Interactive.AIUtilities, 1.0.0-beta.23557.4\"\n",
    "\n",
    "using Microsoft.DotNet.Interactive;\n",
    "using Microsoft.DotNet.Interactive.AIUtilities;"
   ]
  },
  {
   "cell_type": "markdown",
   "metadata": {},
   "source": [
    "## Run this cell, it will prompt you for the apiKey, and endPoint"
   ]
  },
  {
   "cell_type": "code",
   "execution_count": 3,
   "metadata": {
    "dotnet_interactive": {
     "language": "csharp"
    },
    "polyglot_notebook": {
     "kernelName": "csharp"
    }
   },
   "outputs": [
    {
     "ename": "SyntaxError",
     "evalue": "invalid syntax (2669689522.py, line 1)",
     "output_type": "error",
     "traceback": [
      "\u001b[0;36m  Cell \u001b[0;32mIn[3], line 1\u001b[0;36m\u001b[0m\n\u001b[0;31m    var azureOpenAIKey = await Kernel.GetPasswordAsync(\"Provide your OPEN_AI_KEY\");\u001b[0m\n\u001b[0m        ^\u001b[0m\n\u001b[0;31mSyntaxError\u001b[0m\u001b[0;31m:\u001b[0m invalid syntax\n"
     ]
    }
   ],
   "source": [
    "var azureOpenAIKey = await Kernel.GetPasswordAsync(\"Provide your OPEN_AI_KEY\");\n",
    "\n",
    "// Your endpoint should look like the following https://YOUR_OPEN_AI_RESOURCE_NAME.openai.azure.com/\n",
    "var azureOpenAIEndpoint = await Kernel.GetInputAsync(\"Provide the OPEN_AI_ENDPOINT\");"
   ]
  },
  {
   "cell_type": "markdown",
   "metadata": {},
   "source": [
    "### Import namesapaces and create an instance of `OpenAiClient` using the `azureOpenAIEndpoint` and the `azureOpenAIKey`"
   ]
  },
  {
   "cell_type": "code",
   "execution_count": 4,
   "metadata": {
    "dotnet_interactive": {
     "language": "csharp"
    },
    "polyglot_notebook": {
     "kernelName": "csharp"
    }
   },
   "outputs": [],
   "source": [
    "using Azure;\n",
    "using Azure.AI.OpenAI;"
   ]
  },
  {
   "cell_type": "code",
   "execution_count": 10,
   "metadata": {
    "dotnet_interactive": {
     "language": "csharp"
    },
    "polyglot_notebook": {
     "kernelName": "csharp"
    }
   },
   "outputs": [],
   "source": [
    "OpenAIClient client = new (new Uri(azureOpenAIEndpoint), new AzureKeyCredential(azureOpenAIKey.GetClearTextPassword()));"
   ]
  },
  {
   "cell_type": "markdown",
   "metadata": {},
   "source": [
    "Import [SkiaSharp](https://github.com/mono/SkiaSharp) to display images"
   ]
  },
  {
   "cell_type": "code",
   "execution_count": 6,
   "metadata": {
    "dotnet_interactive": {
     "language": "csharp"
    },
    "polyglot_notebook": {
     "kernelName": "csharp"
    }
   },
   "outputs": [
    {
     "data": {
      "text/html": [
       "<div><div></div><div></div><div><strong>Installed Packages</strong><ul><li><span>SkiaSharp, 2.88.6</span></li></ul></div></div>"
      ]
     },
     "metadata": {},
     "output_type": "display_data"
    },
    {
     "data": {
      "text/plain": [
       "Loading extensions from `C:\\Users\\dicolomb\\.nuget\\packages\\skiasharp\\2.88.6\\interactive-extensions\\dotnet\\SkiaSharp.DotNet.Interactive.dll`"
      ]
     },
     "metadata": {},
     "output_type": "display_data"
    }
   ],
   "source": [
    "#r \"nuget: SkiaSharp, 2.88.6\""
   ]
  },
  {
   "cell_type": "markdown",
   "metadata": {},
   "source": [
    "The following code is a function that fetches an image from a given URL and draws it onto a canvas using the SkiaSharp library. SkiaSharp is a cross-platform 2D graphics API for .NET platforms based on Google's Skia Graphics Library. It provides a comprehensive 2D API that can be used across mobile, server, and desktop models to render images.\n",
    "\n",
    "The function takes three parameters: a `string` representing the URL of the image, and two `int` values representing the width and height of the image.\n",
    "\n",
    "Inside the function, an `SKImageInfo` object is created with the provided width and height. This object holds information about the image. An `SKSurface` object is then created using the `SKImageInfo` object. This surface will be used to draw the image.\n",
    "\n",
    "An `HttpClient` object is created to send HTTP requests and receive HTTP responses from the image URL. The `GetStreamAsync` method is used to send a GET request to the specified Uri and return the response body as a stream in an asynchronous operation.\n",
    "\n",
    "The image data from the stream is copied into a `MemoryStream` object. The `MemoryStream` object is then set back to the beginning using the `Seek` method. The image data is decoded into an `SKBitmap` object using the `SKBitmap.Decode` method.\n",
    "\n",
    "The bitmap is then drawn onto the canvas at the coordinates (0,0) using the `DrawBitmap` method. The surface is then drawn onto the canvas at the coordinates (0,0) using the `Draw` method.\n",
    "\n",
    "Finally, the method returns the `SKSurface` object, which now contains the drawn image."
   ]
  },
  {
   "cell_type": "code",
   "execution_count": 15,
   "metadata": {
    "dotnet_interactive": {
     "language": "csharp"
    },
    "polyglot_notebook": {
     "kernelName": "csharp"
    }
   },
   "outputs": [],
   "source": [
    "using SkiaSharp;\n",
    "using System.Net.Http;\n",
    "using System.IO;\n",
    "\n",
    "public static async Task<SKSurface> ShowImage(string url, int width, int height)\n",
    "{\n",
    "    SKImageInfo info = new SKImageInfo(width, height);\n",
    "    SKSurface surface = SKSurface.Create(info);\n",
    "    SKCanvas canvas = surface.Canvas;\n",
    "    canvas.Clear(SKColors.White);\n",
    "    var httpClient = new HttpClient();\n",
    "    using (Stream stream = await httpClient.GetStreamAsync(url))\n",
    "    using (MemoryStream memStream = new MemoryStream())\n",
    "    {\n",
    "        await stream.CopyToAsync(memStream);\n",
    "        memStream.Seek(0, SeekOrigin.Begin);\n",
    "        SKBitmap webBitmap = SKBitmap.Decode(memStream);\n",
    "        canvas.DrawBitmap(webBitmap, 0, 0, null);\n",
    "        surface.Draw(canvas, 0, 0, null);\n",
    "    };\n",
    "    return surface;\n",
    "}"
   ]
  },
  {
   "cell_type": "markdown",
   "metadata": {},
   "source": [
    "## Generations\n",
    "With setup and authentication complete, you can now generate images on the Azure OpenAI service and retrieve them from the returned URLs.\n",
    "\n",
    "### 1. Generate the images\n",
    "The first step in this process is to actually generate the images:"
   ]
  },
  {
   "cell_type": "code",
   "execution_count": 12,
   "metadata": {
    "dotnet_interactive": {
     "language": "csharp"
    },
    "polyglot_notebook": {
     "kernelName": "csharp"
    }
   },
   "outputs": [],
   "source": [
    "var imageGenerations = await client.GetImageGenerationsAsync(\n",
    "                new ImageGenerationOptions()\n",
    "                {\n",
    "                    Prompt = \"A cyberpunk monkey hacker dreaming of a beautiful bunch of bananas, digital art\",\n",
    "                    Size = ImageSize.Size256x256,\n",
    "                });\n",
    "        "
   ]
  },
  {
   "cell_type": "markdown",
   "metadata": {},
   "source": [
    "### .2 Display\n",
    "create the image using the response and `SkiaSharp` and display it"
   ]
  },
  {
   "cell_type": "code",
   "execution_count": 5,
   "metadata": {
    "dotnet_interactive": {
     "language": "csharp"
    },
    "polyglot_notebook": {
     "kernelName": "csharp"
    }
   },
   "outputs": [
    {
     "ename": "SyntaxError",
     "evalue": "invalid syntax (4222822034.py, line 1)",
     "output_type": "error",
     "traceback": [
      "\u001b[0;36m  Cell \u001b[0;32mIn[5], line 1\u001b[0;36m\u001b[0m\n\u001b[0;31m    var imageUri = imageGenerations.Value.Data[0].Url;\u001b[0m\n\u001b[0m        ^\u001b[0m\n\u001b[0;31mSyntaxError\u001b[0m\u001b[0;31m:\u001b[0m invalid syntax\n"
     ]
    }
   ],
   "source": [
    "var imageUri = imageGenerations.Value.Data[0].Url;\n",
    "var surface = await ShowImage(imageUri.ToString(), 256, 256);\n",
    "surface.Display();"
   ]
  }
 ],
 "metadata": {
  "kernelspec": {
   "display_name": "Python 3",
   "language": "python",
   "name": "python3"
  },
  "language_info": {
   "codemirror_mode": {
    "name": "ipython",
    "version": 3
   },
   "file_extension": ".py",
   "mimetype": "text/x-python",
   "name": "python",
   "nbconvert_exporter": "python",
   "pygments_lexer": "ipython3",
   "version": "3.10.13"
  },
  "orig_nbformat": 4
 },
 "nbformat": 4,
 "nbformat_minor": 2
}
